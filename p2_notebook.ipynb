{
 "cells": [
  {
   "cell_type": "code",
   "execution_count": 3,
   "metadata": {},
   "outputs": [],
   "source": [
    "import pandas as pd\n",
    "import seaborn as sns\n",
    "import scipy.stats as stats "
   ]
  },
  {
   "cell_type": "markdown",
   "metadata": {},
   "source": [
    "# 1. Reading and preparing the data."
   ]
  },
  {
   "cell_type": "code",
   "execution_count": 4,
   "metadata": {},
   "outputs": [],
   "source": [
    "cell_count = pd.read_csv(\"cell-count.csv\")"
   ]
  },
  {
   "cell_type": "code",
   "execution_count": 5,
   "metadata": {},
   "outputs": [],
   "source": [
    "# Filtering DF\n",
    "cell_count = cell_count[(cell_count['treatment'] == 'tr1') & (cell_count['sample_type'] == 'PBMC')]"
   ]
  },
  {
   "cell_type": "code",
   "execution_count": 6,
   "metadata": {},
   "outputs": [],
   "source": [
    "# time_from_treatment_start should be the same for a valid comparison.\n",
    "cell_count = cell_count[cell_count['time_from_treatment_start']==0]"
   ]
  },
  {
   "cell_type": "code",
   "execution_count": 7,
   "metadata": {},
   "outputs": [],
   "source": [
    "# The total counts column\n",
    "cell_count['total'] = cell_count['b_cell'] + cell_count['cd8_t_cell'] + cell_count['cd4_t_cell'] + cell_count['nk_cell'] + cell_count['monocyte']"
   ]
  },
  {
   "cell_type": "code",
   "execution_count": 8,
   "metadata": {},
   "outputs": [],
   "source": [
    "cell_count = cell_count.melt(id_vars= list(cell_count.columns[:10]) + [cell_count.columns[15]], var_name='population', value_name='count')"
   ]
  },
  {
   "cell_type": "code",
   "execution_count": 9,
   "metadata": {},
   "outputs": [],
   "source": [
    "# The relative frequency\n",
    "cell_count ['rel_frequency'] = 100 * cell_count['count'] / cell_count['total']"
   ]
  },
  {
   "cell_type": "code",
   "execution_count": 10,
   "metadata": {},
   "outputs": [
    {
     "data": {
      "text/html": [
       "<div>\n",
       "<style scoped>\n",
       "    .dataframe tbody tr th:only-of-type {\n",
       "        vertical-align: middle;\n",
       "    }\n",
       "\n",
       "    .dataframe tbody tr th {\n",
       "        vertical-align: top;\n",
       "    }\n",
       "\n",
       "    .dataframe thead th {\n",
       "        text-align: right;\n",
       "    }\n",
       "</style>\n",
       "<table border=\"1\" class=\"dataframe\">\n",
       "  <thead>\n",
       "    <tr style=\"text-align: right;\">\n",
       "      <th></th>\n",
       "      <th>project</th>\n",
       "      <th>subject</th>\n",
       "      <th>condition</th>\n",
       "      <th>age</th>\n",
       "      <th>sex</th>\n",
       "      <th>treatment</th>\n",
       "      <th>response</th>\n",
       "      <th>sample</th>\n",
       "      <th>sample_type</th>\n",
       "      <th>time_from_treatment_start</th>\n",
       "      <th>total</th>\n",
       "      <th>population</th>\n",
       "      <th>count</th>\n",
       "      <th>rel_frequency</th>\n",
       "    </tr>\n",
       "  </thead>\n",
       "  <tbody>\n",
       "    <tr>\n",
       "      <th>0</th>\n",
       "      <td>prj1</td>\n",
       "      <td>sbj1</td>\n",
       "      <td>melanoma</td>\n",
       "      <td>70</td>\n",
       "      <td>F</td>\n",
       "      <td>tr1</td>\n",
       "      <td>y</td>\n",
       "      <td>s1</td>\n",
       "      <td>PBMC</td>\n",
       "      <td>0.0</td>\n",
       "      <td>120000</td>\n",
       "      <td>b_cell</td>\n",
       "      <td>36000</td>\n",
       "      <td>30.0</td>\n",
       "    </tr>\n",
       "    <tr>\n",
       "      <th>1</th>\n",
       "      <td>prj1</td>\n",
       "      <td>sbj3</td>\n",
       "      <td>melanoma</td>\n",
       "      <td>75</td>\n",
       "      <td>M</td>\n",
       "      <td>tr1</td>\n",
       "      <td>n</td>\n",
       "      <td>s5</td>\n",
       "      <td>PBMC</td>\n",
       "      <td>0.0</td>\n",
       "      <td>150000</td>\n",
       "      <td>b_cell</td>\n",
       "      <td>60000</td>\n",
       "      <td>40.0</td>\n",
       "    </tr>\n",
       "    <tr>\n",
       "      <th>2</th>\n",
       "      <td>prj2</td>\n",
       "      <td>sbj8</td>\n",
       "      <td>melanoma</td>\n",
       "      <td>30</td>\n",
       "      <td>F</td>\n",
       "      <td>tr1</td>\n",
       "      <td>y</td>\n",
       "      <td>s12</td>\n",
       "      <td>PBMC</td>\n",
       "      <td>0.0</td>\n",
       "      <td>120000</td>\n",
       "      <td>b_cell</td>\n",
       "      <td>39600</td>\n",
       "      <td>33.0</td>\n",
       "    </tr>\n",
       "    <tr>\n",
       "      <th>3</th>\n",
       "      <td>prj2</td>\n",
       "      <td>sbj9</td>\n",
       "      <td>melanoma</td>\n",
       "      <td>72</td>\n",
       "      <td>M</td>\n",
       "      <td>tr1</td>\n",
       "      <td>y</td>\n",
       "      <td>s13</td>\n",
       "      <td>PBMC</td>\n",
       "      <td>0.0</td>\n",
       "      <td>115000</td>\n",
       "      <td>b_cell</td>\n",
       "      <td>31050</td>\n",
       "      <td>27.0</td>\n",
       "    </tr>\n",
       "    <tr>\n",
       "      <th>4</th>\n",
       "      <td>prj2</td>\n",
       "      <td>sbj10</td>\n",
       "      <td>lung</td>\n",
       "      <td>63</td>\n",
       "      <td>M</td>\n",
       "      <td>tr1</td>\n",
       "      <td>n</td>\n",
       "      <td>s14</td>\n",
       "      <td>PBMC</td>\n",
       "      <td>0.0</td>\n",
       "      <td>100000</td>\n",
       "      <td>b_cell</td>\n",
       "      <td>31000</td>\n",
       "      <td>31.0</td>\n",
       "    </tr>\n",
       "  </tbody>\n",
       "</table>\n",
       "</div>"
      ],
      "text/plain": [
       "  project subject condition  age sex treatment response sample sample_type  \\\n",
       "0    prj1    sbj1  melanoma   70   F       tr1        y     s1        PBMC   \n",
       "1    prj1    sbj3  melanoma   75   M       tr1        n     s5        PBMC   \n",
       "2    prj2    sbj8  melanoma   30   F       tr1        y    s12        PBMC   \n",
       "3    prj2    sbj9  melanoma   72   M       tr1        y    s13        PBMC   \n",
       "4    prj2   sbj10      lung   63   M       tr1        n    s14        PBMC   \n",
       "\n",
       "   time_from_treatment_start   total population  count  rel_frequency  \n",
       "0                        0.0  120000     b_cell  36000           30.0  \n",
       "1                        0.0  150000     b_cell  60000           40.0  \n",
       "2                        0.0  120000     b_cell  39600           33.0  \n",
       "3                        0.0  115000     b_cell  31050           27.0  \n",
       "4                        0.0  100000     b_cell  31000           31.0  "
      ]
     },
     "execution_count": 10,
     "metadata": {},
     "output_type": "execute_result"
    }
   ],
   "source": [
    "cell_count.head()"
   ]
  },
  {
   "cell_type": "markdown",
   "metadata": {},
   "source": [
    "# 2. Visualization and Statistical Analysis"
   ]
  },
  {
   "cell_type": "code",
   "execution_count": 53,
   "metadata": {},
   "outputs": [],
   "source": [
    "# Fucntion to compute p-values\n",
    "\n",
    "def compute_p_values(population_type: str):\n",
    "\n",
    "    # The rel_frequency for the two groups\n",
    "    yes_grp = cell_count[(cell_count['population']==population_type) & (cell_count['response']=='y')]['rel_frequency']\n",
    "    no_grp = cell_count[(cell_count['population']==population_type) & (cell_count['response']=='n')]['rel_frequency']\n",
    "\n",
    "    # Measurements are normally distributed and the variance is not constant between the groups.\n",
    "    # Therefore, I have chosen the Welch's test\n",
    "    print(stats.ttest_ind(yes_grp, no_grp, equal_var = False)) \n",
    "\n",
    "    \n",
    "    "
   ]
  },
  {
   "cell_type": "markdown",
   "metadata": {},
   "source": [
    "## a) B Cell "
   ]
  },
  {
   "cell_type": "code",
   "execution_count": 51,
   "metadata": {},
   "outputs": [
    {
     "data": {
      "text/plain": [
       "<Axes: xlabel='population', ylabel='rel_frequency'>"
      ]
     },
     "execution_count": 51,
     "metadata": {},
     "output_type": "execute_result"
    },
    {
     "data": {
      "image/png": "[encoded data removed]",
      "text/plain": [
       "<Figure size 640x480 with 1 Axes>"
      ]
     },
     "metadata": {},
     "output_type": "display_data"
    }
   ],
   "source": [
    "sns.boxplot(x='population', y='rel_frequency', hue='response', data=cell_count[cell_count['population']=='b_cell'])"
   ]
  },
  {
   "cell_type": "code",
   "execution_count": 54,
   "metadata": {},
   "outputs": [
    {
     "name": "stdout",
     "output_type": "stream",
     "text": [
      "TtestResult(statistic=-0.16953617599220494, pvalue=0.8750332341258431, df=3.3766075480196074)\n"
     ]
    }
   ],
   "source": [
    "compute_p_values('b_cell')"
   ]
  },
  {
   "cell_type": "markdown",
   "metadata": {},
   "source": [
    "## b) CD4 T Cell"
   ]
  },
  {
   "cell_type": "code",
   "execution_count": 71,
   "metadata": {},
   "outputs": [
    {
     "data": {
      "text/plain": [
       "<Axes: xlabel='population', ylabel='rel_frequency'>"
      ]
     },
     "execution_count": 71,
     "metadata": {},
     "output_type": "execute_result"
    },
    {
     "data": {
      "image/png": "[encoded data removed]",
      "text/plain": [
       "<Figure size 640x480 with 1 Axes>"
      ]
     },
     "metadata": {},
     "output_type": "display_data"
    }
   ],
   "source": [
    "sns.boxplot(x='population', y='rel_frequency', hue='response', data=cell_count[cell_count['population']=='cd4_t_cell'])"
   ]
  },
  {
   "cell_type": "code",
   "execution_count": 55,
   "metadata": {},
   "outputs": [
    {
     "name": "stdout",
     "output_type": "stream",
     "text": [
      "TtestResult(statistic=7.3484692283495345, pvalue=0.0033663610804733394, df=3.398230088495575)\n"
     ]
    }
   ],
   "source": [
    "compute_p_values('cd4_t_cell')"
   ]
  },
  {
   "cell_type": "markdown",
   "metadata": {},
   "source": [
    "## c) CD8 T Cell"
   ]
  },
  {
   "cell_type": "code",
   "execution_count": 72,
   "metadata": {},
   "outputs": [
    {
     "data": {
      "text/plain": [
       "<Axes: xlabel='population', ylabel='rel_frequency'>"
      ]
     },
     "execution_count": 72,
     "metadata": {},
     "output_type": "execute_result"
    },
    {
     "data": {
      "image/png": "[encoded data removed]",
      "text/plain": [
       "<Figure size 640x480 with 1 Axes>"
      ]
     },
     "metadata": {},
     "output_type": "display_data"
    }
   ],
   "source": [
    "sns.boxplot(x='population', y='rel_frequency', hue='response', data=cell_count[cell_count['population']=='cd8_t_cell'])"
   ]
  },
  {
   "cell_type": "code",
   "execution_count": 56,
   "metadata": {},
   "outputs": [
    {
     "name": "stdout",
     "output_type": "stream",
     "text": [
      "TtestResult(statistic=0.5222329678670935, pvalue=0.6239289144043596, df=4.972602739726026)\n"
     ]
    }
   ],
   "source": [
    "compute_p_values('cd8_t_cell')"
   ]
  },
  {
   "cell_type": "markdown",
   "metadata": {},
   "source": [
    "## d) NK Cell"
   ]
  },
  {
   "cell_type": "code",
   "execution_count": 69,
   "metadata": {},
   "outputs": [
    {
     "data": {
      "text/plain": [
       "<Axes: xlabel='population', ylabel='rel_frequency'>"
      ]
     },
     "execution_count": 69,
     "metadata": {},
     "output_type": "execute_result"
    },
    {
     "data": {
      "image/png": "[encoded data removed]",
      "text/plain": [
       "<Figure size 640x480 with 1 Axes>"
      ]
     },
     "metadata": {},
     "output_type": "display_data"
    }
   ],
   "source": [
    "sns.boxplot(x='population', y='rel_frequency', hue='response', data=cell_count[cell_count['population']=='nk_cell'])"
   ]
  },
  {
   "cell_type": "code",
   "execution_count": 57,
   "metadata": {},
   "outputs": [
    {
     "name": "stdout",
     "output_type": "stream",
     "text": [
      "TtestResult(statistic=3.0, pvalue=0.04667533758736983, df=3.5409836065573774)\n"
     ]
    }
   ],
   "source": [
    "compute_p_values('nk_cell')"
   ]
  },
  {
   "cell_type": "markdown",
   "metadata": {},
   "source": [
    "## e) Monocyte"
   ]
  },
  {
   "cell_type": "code",
   "execution_count": 73,
   "metadata": {},
   "outputs": [
    {
     "data": {
      "text/plain": [
       "<Axes: xlabel='population', ylabel='rel_frequency'>"
      ]
     },
     "execution_count": 73,
     "metadata": {},
     "output_type": "execute_result"
    },
    {
     "data": {
      "image/png": "[encoded data removed]",
      "text/plain": [
       "<Figure size 640x480 with 1 Axes>"
      ]
     },
     "metadata": {},
     "output_type": "display_data"
    }
   ],
   "source": [
    "sns.boxplot(x='population', y='rel_frequency', hue='response', data=cell_count[cell_count['population']=='monocyte'])"
   ]
  },
  {
   "cell_type": "code",
   "execution_count": 58,
   "metadata": {},
   "outputs": [
    {
     "name": "stdout",
     "output_type": "stream",
     "text": [
      "TtestResult(statistic=-2.3647584688883136, pvalue=0.08756928062435297, df=3.452944445770439)\n"
     ]
    }
   ],
   "source": [
    "compute_p_values('monocyte')"
   ]
  },
  {
   "cell_type": "markdown",
   "metadata": {},
   "source": [
    "# Results\n",
    "\n",
    "\n",
    "## At a significance level of 0.05:\n",
    "\n",
    "The relative frequencies of CD4 T-cells and Natural Killer cells show significant \n",
    "differences between responders and non-responders. With both cell types being present \n",
    "at higher proportions in responders.\n",
    "\n",
    "## At a significance level of 0.1:\n",
    "\n",
    "Monocytes also warrant further consideration. Responders seem to have low-levels \n",
    "of monocytes.\n",
    "\n",
    "\n",
    "\n",
    "\n"
   ]
  }
 ],
 "metadata": {
  "kernelspec": {
   "display_name": "Python 3 (ipykernel)",
   "language": "python",
   "name": "python3"
  },
  "language_info": {
   "codemirror_mode": {
    "name": "ipython",
    "version": 3
   },
   "file_extension": ".py",
   "mimetype": "text/x-python",
   "name": "python",
   "nbconvert_exporter": "python",
   "pygments_lexer": "ipython3",
   "version": "3.12.2"
  }
 },
 "nbformat": 4,
 "nbformat_minor": 4
}
